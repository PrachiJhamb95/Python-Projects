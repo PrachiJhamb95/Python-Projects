{
 "cells": [
  {
   "cell_type": "markdown",
   "metadata": {},
   "source": [
    "This is the second pratice code for the application of Double Machine Learning (DML) to estimate the effect of 401(k) participation on retirement savings. \n",
    "The 401K data considered here is from the Survey of Income and Program Participation (SIPP) from the year 1991. We use the data taken from the application in Chernozhukov et al. (2018). This time we play around with different models and compare the results. \n",
    "401(k) plans are pension accounts sponsored by employers. A major challenge in assessing the impact of participating in 401(k) plans on accumulated savings arises from saver heterogeneity and the non-random nature of enrollment decisions. Individuals differ significantly in their preferences for saving, and it is reasonable to assume that those with stronger, unobserved preferences for saving are more inclined to participate in tax-advantaged retirement plans such as 401(k)s. Consequently, these individuals likely have higher accumulated assets regardless of participation. Failure to account for this saver heterogeneity and the endogenous nature of participation decisions leads to upward-biased estimates, overstating the actual savings effects attributable to 401(k) participation.\n",
    "\n",
    "To address this bias, it can be argued that eligibility for enrolling in a 401(k) plan can be considered exogenous once certain observable factors, especially income, are controlled for. This argument rests on the premise that when 401(k) plans were initially introduced, employment decisions were generally driven by income and other job characteristics, rather than by the availability of a 401(k). Thus, after conditioning on income and similar observables, eligibility for a 401(k) is less likely to be correlated with unobserved preferences for saving.- source:https://docs.doubleml.org/dev/examples/py_double_ml_pension.html"
   ]
  },
  {
   "cell_type": "markdown",
   "metadata": {},
   "source": [
    "We use net financial assets (net_tfa) as the outcome variable. The treatment variable is 401(k) participation. The covariates are age, income, education, marital status and other worker characteristics such as family size, dual-earner status, defined-benefit pension, IRA participation, and home ownership."
   ]
  },
  {
   "cell_type": "code",
   "execution_count": 4,
   "metadata": {},
   "outputs": [
    {
     "name": "stdout",
     "output_type": "stream",
     "text": [
      "Data shape: (9915, 14)\n",
      "Outcome (net_tfa) and treatment (p401) summary:\n",
      "            net_tfa         p401\n",
      "count  9.915000e+03  9915.000000\n",
      "mean   1.805153e+04     0.261624\n",
      "std    6.352259e+04     0.439541\n",
      "min   -5.023020e+05     0.000000\n",
      "25%   -5.000000e+02     0.000000\n",
      "50%    1.499000e+03     0.000000\n",
      "75%    1.652450e+04     1.000000\n",
      "max    1.536798e+06     1.000000\n"
     ]
    }
   ],
   "source": [
    "import numpy as np\n",
    "import pandas as pd\n",
    "import doubleml as dml\n",
    "# Load the dataset\n",
    "data = pd.read_stata('/Users/prachijhamb/Downloads/sipp1991.dta')\n",
    "print(f\"Data shape: {data.shape}\")\n",
    "print(\"Outcome (net_tfa) and treatment (p401) summary:\")\n",
    "print(data[['net_tfa','p401']].describe())"
   ]
  },
  {
   "cell_type": "markdown",
   "metadata": {},
   "source": [
    "The variable e401 indicates eligibility and p401 indicates participation in 401(k) plan."
   ]
  },
  {
   "cell_type": "code",
   "execution_count": 5,
   "metadata": {},
   "outputs": [
    {
     "data": {
      "image/png": "[encoded data removed]",
      "text/plain": [
       "<Figure size 640x480 with 1 Axes>"
      ]
     },
     "metadata": {},
     "output_type": "display_data"
    }
   ],
   "source": [
    "#Create a bar plot of the eligibility for 401(k) plans. The variable e401 has two values: 1 if the respondent is eligible for a 401(k) plan and 0 otherwise.\n",
    "# Define colors explicitly\n",
    "colors = ['#1f77b4', '#ff7f0e']\n",
    "\n",
    "import matplotlib.pyplot as plt\n",
    "# Set matplotlib attribute to plot the graph inline\n",
    "%matplotlib inline\n",
    "# Plotting\n",
    "data['e401'].value_counts().plot(kind='bar', color=colors)\n",
    "plt.title('Eligibility for 401(k)', fontsize=14)\n",
    "plt.xlabel('e401', fontsize=12)\n",
    "plt.ylabel('Count', fontsize=12)\n",
    "plt.grid(axis='y', linestyle='--', alpha=0.7)\n",
    "\n",
    "plt.xticks(rotation=0)\n",
    "plt.tight_layout()\n",
    "plt.show()"
   ]
  },
  {
   "cell_type": "markdown",
   "metadata": {},
   "source": [
    "The density plots below show the comparison between these two groups. We notice that individuals eligible for a 401(k) (e401 = 1) generally have higher net total financial assets compared to individuals who are not eligible (e401 = 0). "
   ]
  },
  {
   "cell_type": "code",
   "execution_count": null,
   "metadata": {},
   "outputs": [],
   "source": [
    "import seaborn as sns\n",
    "# Set up FacetGrid to create separate plots based on 'e401'\n",
    "g = sns.FacetGrid(data, col='e401', hue='e401', palette='Set2', height=5, aspect=1.2, sharey=True)\n",
    "\n",
    "# Add density plots within each facet\n",
    "g.map(sns.kdeplot, 'net_tfa', fill=True, common_norm=False, alpha=0.5)\n",
    "\n",
    "# Set x-axis limits to match your ggplot specification\n",
    "g.set(xlim=(-20000, 150000))\n",
    "\n",
    "# Add titles and axis labels\n",
    "g.set_axis_labels('net_tfa', 'Density')\n",
    "g.set_titles('e401 = {col_name}')\n",
    "\n",
    "# Improve layout\n",
    "plt.tight_layout()\n",
    "plt.show()"
   ]
  },
  {
   "cell_type": "markdown",
   "metadata": {},
   "source": [
    "#Estimate average potential outcomes\n",
    "We compute the simple difference in means or the unconditional average predictive effect (APE) of 401(k) eligibility on accumulated assets. This measure would reflect the average treatment effect if eligibility for a 401(k) plan were randomly assigned across all individuals. "
   ]
  },
  {
   "cell_type": "code",
   "execution_count": 6,
   "metadata": {},
   "outputs": [
    {
     "name": "stdout",
     "output_type": "stream",
     "text": [
      "19559.0\n",
      "27372.0\n"
     ]
    }
   ],
   "source": [
    "# Filter data where e401 == 1 and e401 == 0\n",
    "e1 = data[data['e401'] == 1]\n",
    "e0 = data[data['e401'] == 0]\n",
    "\n",
    "# Calculate the simple difference in means for net_tfa\n",
    "mean_diff_e = round(np.mean(e1['net_tfa']) - np.mean(e0['net_tfa']), 0)\n",
    "print(mean_diff_e)\n",
    "\n",
    "# Filter data based on p401\n",
    "p1 = data[data['p401'] == 1]\n",
    "p0 = data[data['p401'] == 0]\n",
    "\n",
    "# Compute and round the difference in means\n",
    "mean_diff_p = round(np.mean(p1['net_tfa']) - np.mean(p0['net_tfa']), 0)\n",
    "print(mean_diff_p )\n"
   ]
  },
  {
   "cell_type": "markdown",
   "metadata": {},
   "source": [
    "The unconditional APE of e401 is about 19559: individuals eligible for a 401(k) have about $19559 more in net total financial assets compared to those who are not eligible.\n",
    "Among the 3682 individuals that are eligible,  2594 decided to participate in the program. The unconditional APE of p401 is about  27372: individuals who participate in a 401(k) have about $27372 more in net total financial assets compared to those who do not participate.\n",
    "But, these estimates are biased since they do not account for the non-random nature of 401(k) participation decisions. "
   ]
  },
  {
   "cell_type": "code",
   "execution_count": 7,
   "metadata": {},
   "outputs": [
    {
     "name": "stdout",
     "output_type": "stream",
     "text": [
      "================== DoubleMLData Object ==================\n",
      "\n",
      "------------------ Data summary      ------------------\n",
      "Outcome variable: net_tfa\n",
      "Treatment variable(s): ['p401']\n",
      "Covariates: ['age', 'inc', 'educ', 'fsize', 'marr', 'twoearn', 'db', 'pira', 'hown']\n",
      "Instrument variable(s): None\n",
      "No. Observations: 9915\n",
      "\n",
      "------------------ DataFrame info    ------------------\n",
      "<class 'pandas.core.frame.DataFrame'>\n",
      "RangeIndex: 9915 entries, 0 to 9914\n",
      "Columns: 14 entries, nifa to hown\n",
      "dtypes: float32(4), int8(10)\n",
      "memory usage: 251.9 KB\n",
      "\n"
     ]
    }
   ],
   "source": [
    "# Define the features and outcome variables\n",
    "control = ['age', 'inc', 'educ', 'fsize', 'marr', 'twoearn', 'db', 'pira', 'hown']\n",
    "outcome = 'net_tfa'\n",
    "treatment = 'p401'\n",
    "\n",
    "# Initialize basic DoubleMLData object\n",
    "data_dml_base = dml.DoubleMLData(data, \n",
    "                                 y_col= outcome,\n",
    "                                 d_cols= treatment,\n",
    "                                 x_cols=control)\n",
    "\n",
    "print(data_dml_base)"
   ]
  },
  {
   "cell_type": "code",
   "execution_count": 8,
   "metadata": {},
   "outputs": [
    {
     "name": "stdout",
     "output_type": "stream",
     "text": [
      "================== DoubleMLData Object ==================\n",
      "\n",
      "------------------ Data summary      ------------------\n",
      "Outcome variable: net_tfa\n",
      "Treatment variable(s): ['e401']\n",
      "Covariates: ['marr', 'twoearn', 'db', 'pira', 'hown', 'age', 'age^2', 'inc', 'inc^2', 'educ', 'educ^2', 'fsize', 'fsize^2']\n",
      "Instrument variable(s): None\n",
      "No. Observations: 9915\n",
      "\n",
      "------------------ DataFrame info    ------------------\n",
      "<class 'pandas.core.frame.DataFrame'>\n",
      "RangeIndex: 9915 entries, 0 to 9914\n",
      "Columns: 15 entries, net_tfa to fsize^2\n",
      "dtypes: float32(3), float64(6), int8(6)\n",
      "memory usage: 639.2 KB\n",
      "\n"
     ]
    }
   ],
   "source": [
    "from sklearn.preprocessing import PolynomialFeatures\n",
    "## Step 4: Construct Polynomial Features for Flexible Model\n",
    "# Start with indicator features\n",
    "features = data[['marr', 'twoearn', 'db', 'pira', 'hown']].copy()\n",
    "\n",
    "# Dictionary specifying polynomial degrees for selected variables\n",
    "poly_dict = {'age': 2,\n",
    "             'inc': 2,\n",
    "             'educ': 2,\n",
    "             'fsize': 2}\n",
    "\n",
    "# Create polynomial features\n",
    "for key, degree in poly_dict.items():\n",
    "    poly = PolynomialFeatures(degree, include_bias=False)\n",
    "    data_poly = poly.fit_transform(data[[key]])\n",
    "    poly_feature_names = poly.get_feature_names_out([key])\n",
    "    data_poly_df = pd.DataFrame(data_poly, columns=poly_feature_names, index=data.index)\n",
    "\n",
    "    # Concatenate polynomial features\n",
    "    features = pd.concat([features, data_poly_df], axis=1)\n",
    "\n",
    "# Combine with outcome and treatment\n",
    "model_data = pd.concat([data[['net_tfa', 'e401']], features], axis=1)\n",
    "model_data\n",
    "# Initialize the flexible DoubleMLData object\n",
    "data_dml_flex = dml.DoubleMLData(model_data,\n",
    "                                 y_col='net_tfa',\n",
    "                                 d_cols='e401')\n",
    "\n",
    "print(data_dml_flex)"
   ]
  },
  {
   "cell_type": "markdown",
   "metadata": {},
   "source": [
    "Partially Linear Regression (PLR) model estimation using Lasso regression in Python with the DoubleML library. "
   ]
  },
  {
   "cell_type": "code",
   "execution_count": 9,
   "metadata": {},
   "outputs": [
    {
     "name": "stdout",
     "output_type": "stream",
     "text": [
      "              coef      std err        t         P>|t|        2.5 %  \\\n",
      "p401  10587.105961  1359.856171  7.78546  6.945996e-15  7921.836841   \n",
      "\n",
      "           97.5 %  \n",
      "p401  13252.37508  \n"
     ]
    }
   ],
   "source": [
    "from sklearn.linear_model import LassoCV, LogisticRegressionCV\n",
    "# Set random seed for reproducibility\n",
    "np.random.seed(123)\n",
    "## Define Lasso Learners for DoubleML\n",
    "# Lasso for outcome (regression)\n",
    "lasso_g = LassoCV(cv=5, random_state=123)\n",
    "\n",
    "# Lasso for treatment (classification)\n",
    "lasso_m = LogisticRegressionCV(cv=5, penalty='l1', solver='saga', max_iter=10000, random_state=123)\n",
    "\n",
    "\n",
    "##Initialize and Fit the PLR Model\n",
    "#we use double machine learning with 3-fold cross-fitting.\n",
    "dml_plr = dml.DoubleMLPLR(data_dml_base,\n",
    "                          ml_l=lasso_g,\n",
    "                          ml_m=lasso_m,\n",
    "                          n_folds=3)\n",
    "\n",
    "# Fit the model and store predictions\n",
    "dml_plr.fit(store_predictions=True)\n",
    "print(dml_plr.summary)"
   ]
  },
  {
   "cell_type": "code",
   "execution_count": 10,
   "metadata": {},
   "outputs": [
    {
     "name": "stderr",
     "output_type": "stream",
     "text": [
      "/opt/anaconda3/envs/myenv/lib/python3.12/site-packages/sklearn/linear_model/_sag.py:349: ConvergenceWarning: The max_iter was reached which means the coef_ did not converge\n",
      "  warnings.warn(\n",
      "/opt/anaconda3/envs/myenv/lib/python3.12/site-packages/sklearn/linear_model/_sag.py:349: ConvergenceWarning: The max_iter was reached which means the coef_ did not converge\n",
      "  warnings.warn(\n",
      "/opt/anaconda3/envs/myenv/lib/python3.12/site-packages/sklearn/linear_model/_sag.py:349: ConvergenceWarning: The max_iter was reached which means the coef_ did not converge\n",
      "  warnings.warn(\n",
      "/opt/anaconda3/envs/myenv/lib/python3.12/site-packages/sklearn/linear_model/_sag.py:349: ConvergenceWarning: The max_iter was reached which means the coef_ did not converge\n",
      "  warnings.warn(\n"
     ]
    },
    {
     "name": "stdout",
     "output_type": "stream",
     "text": [
      "             coef      std err         t         P>|t|        2.5 %  \\\n",
      "e401  6392.151692  1171.982515  5.454136  4.921161e-08  4095.108172   \n",
      "\n",
      "           97.5 %  \n",
      "e401  8689.195212  \n"
     ]
    }
   ],
   "source": [
    "# Estimate the ATE in the flexible model with lasso\n",
    "#we use double machine learning with 3-fold cross-fitting.\n",
    "np.random.seed(123)\n",
    "dml_plr_lasso = dml.DoubleMLPLR(data_dml_flex,\n",
    "                                ml_l = lasso_g,\n",
    "                                ml_m = lasso_m,\n",
    "                                n_folds = 3)\n",
    "\n",
    "dml_plr_lasso.fit(store_predictions=True)\n",
    "lasso_summary = dml_plr_lasso.summary\n",
    "print(lasso_summary)"
   ]
  },
  {
   "cell_type": "markdown",
   "metadata": {},
   "source": [
    "Then, we repeat this procedure for various machine learning methods.# Random Forest. We can compare the accuracy of this model to the model that has been estimated with lasso."
   ]
  },
  {
   "cell_type": "code",
   "execution_count": 11,
   "metadata": {},
   "outputs": [
    {
     "name": "stdout",
     "output_type": "stream",
     "text": [
      "              coef     std err        t         P>|t|        2.5 %  \\\n",
      "p401  13726.869517  1514.46672  9.06383  1.259482e-19  10758.56929   \n",
      "\n",
      "            97.5 %  \n",
      "p401  16695.169743  \n"
     ]
    }
   ],
   "source": [
    "# Random Forest\n",
    "from sklearn.ensemble import RandomForestRegressor, RandomForestClassifier\n",
    "randomForest = RandomForestRegressor(\n",
    "    n_estimators=500, max_depth=7, max_features=3, min_samples_leaf=3)\n",
    "randomForest_class = RandomForestClassifier(\n",
    "    n_estimators=500, max_depth=5, max_features=4, min_samples_leaf=7)\n",
    "\n",
    "np.random.seed(123)\n",
    "dml_plr_forest = dml.DoubleMLPLR(data_dml_base,\n",
    "                                 ml_l = randomForest,\n",
    "                                 ml_m = randomForest_class,\n",
    "                                 n_folds = 3)\n",
    "dml_plr_forest.fit(store_predictions=True)\n",
    "forest_summary = dml_plr_forest.summary\n",
    "\n",
    "print(forest_summary)"
   ]
  },
  {
   "cell_type": "code",
   "execution_count": 12,
   "metadata": {},
   "outputs": [
    {
     "name": "stdout",
     "output_type": "stream",
     "text": [
      "              coef      std err         t         P>|t|        2.5 %  \\\n",
      "p401  12638.769091  1557.825209  8.113085  4.935033e-16  9585.487788   \n",
      "\n",
      "            97.5 %  \n",
      "p401  15692.050395  \n"
     ]
    }
   ],
   "source": [
    "# Trees\n",
    "from sklearn.tree import DecisionTreeRegressor, DecisionTreeClassifier\n",
    "trees = DecisionTreeRegressor(\n",
    "    max_depth=30, ccp_alpha=0.0047, min_samples_split=203, min_samples_leaf=67)\n",
    "trees_class = DecisionTreeClassifier(\n",
    "    max_depth=30, ccp_alpha=0.0042, min_samples_split=104, min_samples_leaf=34)\n",
    "\n",
    "np.random.seed(123)\n",
    "dml_plr_tree = dml.DoubleMLPLR(data_dml_base,\n",
    "                               ml_l = trees,\n",
    "                               ml_m = trees_class,\n",
    "                               n_folds = 3)\n",
    "dml_plr_tree.fit(store_predictions=True)\n",
    "tree_summary = dml_plr_tree.summary\n",
    "\n",
    "print(tree_summary)"
   ]
  },
  {
   "cell_type": "code",
   "execution_count": 13,
   "metadata": {},
   "outputs": [
    {
     "name": "stdout",
     "output_type": "stream",
     "text": [
      "                coef         2.5 %        97.5 %\n",
      "lasso    6392.151692   4095.108172   8689.195212\n",
      "forest  13726.869517  10758.569290  16695.169743\n",
      "tree    12638.769091   9585.487788  15692.050395\n"
     ]
    },
    {
     "data": {
      "image/png": "[encoded data removed]",
      "text/plain": [
       "<Figure size 640x480 with 1 Axes>"
      ]
     },
     "metadata": {},
     "output_type": "display_data"
    }
   ],
   "source": [
    "plr_summary = pd.concat((lasso_summary, forest_summary, tree_summary))\n",
    "plr_summary.index = ['lasso', 'forest', 'tree']\n",
    "print(plr_summary[['coef', '2.5 %', '97.5 %']])\n",
    "errors = np.full((2, plr_summary.shape[0]), np.nan)\n",
    "errors[0, :] = plr_summary['coef'] - plr_summary['2.5 %']\n",
    "errors[1, :] = plr_summary['97.5 %'] - plr_summary['coef']\n",
    "plt.errorbar(plr_summary.index, plr_summary.coef, fmt='o', yerr=errors)\n",
    "plt.ylim([0, 12500])\n",
    "\n",
    "plt.title('Partially Linear Regression Model (PLR)')\n",
    "plt.xlabel('ML method')\n",
    "_ =  plt.ylabel('Coefficients and 95%-CI')"
   ]
  },
  {
   "cell_type": "code",
   "execution_count": 14,
   "metadata": {},
   "outputs": [
    {
     "name": "stdout",
     "output_type": "stream",
     "text": [
      "================== DoubleMLData Object ==================\n",
      "\n",
      "------------------ Data summary      ------------------\n",
      "Outcome variable: net_tfa\n",
      "Treatment variable(s): ['p401']\n",
      "Covariates: ['age', 'inc', 'educ', 'fsize', 'marr', 'twoearn', 'db', 'pira', 'hown']\n",
      "Instrument variable(s): ['e401']\n",
      "No. Observations: 9915\n",
      "\n",
      "------------------ DataFrame info    ------------------\n",
      "<class 'pandas.core.frame.DataFrame'>\n",
      "RangeIndex: 9915 entries, 0 to 9914\n",
      "Columns: 14 entries, nifa to hown\n",
      "dtypes: float32(4), int8(10)\n",
      "memory usage: 251.9 KB\n",
      "\n"
     ]
    }
   ],
   "source": [
    "#Instrumental Variable (IV) Estimation Using DoubleML\n",
    "#Using eligibility for 401(k) as an instrument for participation in a 401(k) plan.\n",
    "\n",
    "# Initialize DoubleMLData with an instrument\n",
    "\n",
    "# Initialize DoubleMLData with an instrument\n",
    "\n",
    "# Basic model\n",
    "data_dml_base_iv = dml.DoubleMLData(data,\n",
    "                                    y_col='net_tfa',\n",
    "                                    d_cols='p401',\n",
    "                                    z_cols='e401',\n",
    "                                    x_cols= control)\n",
    "\n",
    "print(data_dml_base_iv)\n"
   ]
  },
  {
   "cell_type": "code",
   "execution_count": 16,
   "metadata": {},
   "outputs": [
    {
     "name": "stdout",
     "output_type": "stream",
     "text": [
      "================== DoubleMLData Object ==================\n",
      "\n",
      "------------------ Data summary      ------------------\n",
      "Outcome variable: net_tfa\n",
      "Treatment variable(s): ['p401']\n",
      "Covariates: ['marr', 'twoearn', 'db', 'pira', 'hown', 'age', 'age^2', 'inc', 'inc^2', 'educ', 'educ^2', 'fsize', 'fsize^2']\n",
      "Instrument variable(s): ['e401']\n",
      "No. Observations: 9915\n",
      "\n",
      "------------------ DataFrame info    ------------------\n",
      "<class 'pandas.core.frame.DataFrame'>\n",
      "RangeIndex: 9915 entries, 0 to 9914\n",
      "Columns: 16 entries, net_tfa to fsize^2\n",
      "dtypes: float32(3), float64(6), int8(7)\n",
      "memory usage: 648.9 KB\n",
      "\n"
     ]
    }
   ],
   "source": [
    "# Flexible model\n",
    "model_data = pd.concat((data.copy()[['net_tfa', 'e401', 'p401']], features.copy()),\n",
    "                        axis=1, sort=False)\n",
    "\n",
    "data_dml_iv_flex = dml.DoubleMLData(model_data,\n",
    "                                    y_col='net_tfa',\n",
    "                                    d_cols='p401',\n",
    "                                    z_cols='e401')\n",
    "\n",
    "print(data_dml_iv_flex)"
   ]
  },
  {
   "cell_type": "code",
   "execution_count": 17,
   "metadata": {},
   "outputs": [
    {
     "name": "stdout",
     "output_type": "stream",
     "text": [
      "              coef      std err         t         P>|t|        2.5 %  \\\n",
      "p401  11607.325142  1816.740679  6.389093  1.668726e-10  8046.578843   \n",
      "\n",
      "            97.5 %  \n",
      "p401  15168.071441  \n"
     ]
    }
   ],
   "source": [
    "# Lasso\n",
    "from sklearn.pipeline import make_pipeline\n",
    "from sklearn.preprocessing import StandardScaler\n",
    "lasso = make_pipeline(StandardScaler(), LassoCV(cv=5, max_iter=20000))\n",
    "\n",
    "# Initialize DoubleMLIRM model\n",
    "np.random.seed(123)\n",
    "dml_iivm_lasso = dml.DoubleMLIIVM(data_dml_iv_flex,\n",
    "                                  ml_g = lasso,\n",
    "                                  ml_m = lasso_m,\n",
    "                                  ml_r = lasso_m,\n",
    "                                  subgroups = {'always_takers': False,\n",
    "                                             'never_takers': True},\n",
    "                                  trimming_threshold = 0.01,\n",
    "                                  n_folds = 3)\n",
    "dml_iivm_lasso.fit(store_predictions=True)\n",
    "lasso_summary = dml_iivm_lasso.summary\n",
    "\n",
    "print(lasso_summary)"
   ]
  }
 ],
 "metadata": {
  "kernelspec": {
   "display_name": "myenv",
   "language": "python",
   "name": "python3"
  },
  "language_info": {
   "codemirror_mode": {
    "name": "ipython",
    "version": 3
   },
   "file_extension": ".py",
   "mimetype": "text/x-python",
   "name": "python",
   "nbconvert_exporter": "python",
   "pygments_lexer": "ipython3",
   "version": "3.12.2"
  }
 },
 "nbformat": 4,
 "nbformat_minor": 2
}
