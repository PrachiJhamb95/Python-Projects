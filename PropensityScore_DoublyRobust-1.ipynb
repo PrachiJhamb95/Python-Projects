{
 "cells": [
  {
   "cell_type": "markdown",
   "metadata": {},
   "source": [
    "# Evaluating the Impact of Job Training Programs on Earnings using the Lalonde Dataset.\n",
    "This dataset is a common benchmark for causal analysis. Original analysis of the study was done by Robert LaLonde and published in his 1986 Evaluating the Econometric Evaluations of Training Programs with Experimental Data paper.\n",
    "We seek to estimate the causal impact of a job training program on the post-treatment earnings of individuals in the treated group compared to those in the control group."
   ]
  },
  {
   "cell_type": "code",
   "execution_count": null,
   "metadata": {},
   "outputs": [
    {
     "name": "stdout",
     "output_type": "stream",
     "text": [
      "<class 'pandas.core.frame.DataFrame'>\n",
      "RangeIndex: 614 entries, 0 to 613\n",
      "Data columns (total 11 columns):\n",
      " #   Column    Non-Null Count  Dtype  \n",
      "---  ------    --------------  -----  \n",
      " 0   ID        614 non-null    object \n",
      " 1   treat     614 non-null    int64  \n",
      " 2   age       614 non-null    int64  \n",
      " 3   educ      614 non-null    int64  \n",
      " 4   black     614 non-null    int64  \n",
      " 5   hispan    614 non-null    int64  \n",
      " 6   married   614 non-null    int64  \n",
      " 7   nodegree  614 non-null    int64  \n",
      " 8   re74      614 non-null    float64\n",
      " 9   re75      614 non-null    float64\n",
      " 10  re78      614 non-null    float64\n",
      "dtypes: float64(3), int64(7), object(1)\n",
      "memory usage: 52.9+ KB\n"
     ]
    }
   ],
   "source": [
    "import numpy as np\n",
    "import pandas as pd\n",
    "# Load the dataset\n",
    "data = pd.read_csv('/Users/prachijhamb/Downloads/lalonde_data.csv')\n",
    "data.info()\n",
    "# A data frame with 614 observations (185 treated, 429 control). There are 10 variables measured for each individual. "
   ]
  },
  {
   "cell_type": "code",
   "execution_count": null,
   "metadata": {},
   "outputs": [],
   "source": []
  }
 ],
 "metadata": {
  "kernelspec": {
   "display_name": "myenv",
   "language": "python",
   "name": "python3"
  },
  "language_info": {
   "codemirror_mode": {
    "name": "ipython",
    "version": 3
   },
   "file_extension": ".py",
   "mimetype": "text/x-python",
   "name": "python",
   "nbconvert_exporter": "python",
   "pygments_lexer": "ipython3",
   "version": "3.12.2"
  }
 },
 "nbformat": 4,
 "nbformat_minor": 2
}
