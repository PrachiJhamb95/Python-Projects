{
 "cells": [
  {
   "cell_type": "code",
   "execution_count": null,
   "metadata": {},
   "outputs": [],
   "source": [
    "#This is a pratice code for the application of Double Machine Learning (DML) to estimate the effect of 401(k) on elligibility on net financial assets."
   ]
  },
  {
   "cell_type": "code",
   "execution_count": 2,
   "metadata": {},
   "outputs": [],
   "source": [
    "import numpy as np\n",
    "import pandas as pd\n",
    "from itertools import product\n",
    "from sklearn.linear_model import Lasso, LassoCV, LogisticRegression, LogisticRegressionCV\n",
    "import matplotlib.pyplot as plt\n",
    "# Import main machine learning models\n",
    "import econml\n",
    "from econml.dml       import CausalForestDML\n",
    "from sklearn.ensemble import RandomForestRegressor\n",
    "from econml.orf import DMLOrthoForest, DROrthoForest\n",
    "from econml.sklearn_extensions.linear_model import WeightedLassoCVWrapper, WeightedLasso, WeightedLassoCV\n",
    "# Set matplotlib attribute to plot the graph inline\n",
    "%matplotlib inline"
   ]
  },
  {
   "cell_type": "code",
   "execution_count": 3,
   "metadata": {},
   "outputs": [
    {
     "data": {
      "image/png": "[encoded data removed]",
      "text/latex": [
       "$\\displaystyle \\left( 90, \\  63\\right)$"
      ],
      "text/plain": [
       "(90, 63)"
      ]
     },
     "execution_count": 3,
     "metadata": {},
     "output_type": "execute_result"
    }
   ],
   "source": [
    "file = \"https://raw.githubusercontent.com/CausalAIBook/MetricsMLNotebooks/main/data/GrowthData.csv\"\n",
    "data = pd.read_csv(file)\n",
    "data = data.loc[:, ~data.columns.str.contains('^Unnamed')]  # get rid of index column\n",
    "data.shape"
   ]
  },
  {
   "cell_type": "code",
   "execution_count": 4,
   "metadata": {},
   "outputs": [],
   "source": [
    "y = data[\"Outcome\"]\n",
    "d = data[\"gdpsh465\"]\n",
    "x = data[data.columns[~data.columns.isin(['gdpsh465', 'intercept', 'Outcome'])]]"
   ]
  },
  {
   "cell_type": "code",
   "execution_count": null,
   "metadata": {},
   "outputs": [],
   "source": [
    "# some summary statistics\n",
    "print(\"The length of y is: \", y.shape[0])\n",
    "print(\"The number of features in x is: \", x.shape[1])\n",
    "# naive OLS\n",
    "all_columns = \"+\".join(data.iloc[:, 2:].columns)\n",
    "my_formula = \"Outcome ~ \" + all_columns\n",
    "ols_naive = smf.ols(formula=my_formula, data=data).fit()\n",
    "print(\"Naive OLS that uses all features w/o cross-fitting Y ~ D+X yields: \",\n",
    "      ols_naive.params[1], \"(\", ols_naive.bse[1], \")\")"
   ]
  },
  {
   "cell_type": "code",
   "execution_count": null,
   "metadata": {},
   "outputs": [],
   "source": [
    "# Define heterogeneous treatment effects (HTE)\n",
    "# Define treatment\n",
    "# Define the outcome\n",
    "# Calculate treatment effects\n",
    "# Calculate default (90%) confidence intervals\n",
    "# Train CausalForestDML estimator\n"
   ]
  }
 ],
 "metadata": {
  "kernelspec": {
   "display_name": "myenv",
   "language": "python",
   "name": "python3"
  },
  "language_info": {
   "codemirror_mode": {
    "name": "ipython",
    "version": 3
   },
   "file_extension": ".py",
   "mimetype": "text/x-python",
   "name": "python",
   "nbconvert_exporter": "python",
   "pygments_lexer": "ipython3",
   "version": "3.12.2"
  }
 },
 "nbformat": 4,
 "nbformat_minor": 2
}
