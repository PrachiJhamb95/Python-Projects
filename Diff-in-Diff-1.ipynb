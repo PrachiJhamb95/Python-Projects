{
 "cells": [
  {
   "cell_type": "markdown",
   "metadata": {},
   "source": [
    "#The dataset is adapted from the dataset in Card and Krueger (1994), which estimates the causal effect of an increase in the state minimum wages on employment outcomes.\n",
    "#We replicate their Difference in difference estimates in Python. "
   ]
  },
  {
   "cell_type": "code",
   "execution_count": 8,
   "metadata": {},
   "outputs": [
    {
     "name": "stdout",
     "output_type": "stream",
     "text": [
      "<class 'pandas.core.frame.DataFrame'>\n",
      "RangeIndex: 384 entries, 0 to 383\n",
      "Data columns (total 3 columns):\n",
      " #   Column         Non-Null Count  Dtype  \n",
      "---  ------         --------------  -----  \n",
      " 0   state          384 non-null    int64  \n",
      " 1   total_emp_feb  384 non-null    float64\n",
      " 2   total_emp_nov  384 non-null    float64\n",
      "dtypes: float64(2), int64(1)\n",
      "memory usage: 9.1 KB\n"
     ]
    },
    {
     "data": {
      "application/vnd.microsoft.datawrangler.viewer.v0+json": {
       "columns": [
        {
         "name": "state",
         "rawType": "int64",
         "type": "integer"
        },
        {
         "name": "total_emp_feb",
         "rawType": "float64",
         "type": "float"
        },
        {
         "name": "total_emp_nov",
         "rawType": "float64",
         "type": "float"
        }
       ],
       "conversionMethod": "pd.DataFrame",
       "ref": "7eb504a3-0f63-4215-95bf-24989ee586af",
       "rows": [
        [
         "0",
         "23.38",
         "21.096666666666668"
        ],
        [
         "1",
         "20.430582524271845",
         "20.89724919093851"
        ]
       ],
       "shape": {
        "columns": 2,
        "rows": 2
       }
      },
      "text/html": [
       "<div>\n",
       "<style scoped>\n",
       "    .dataframe tbody tr th:only-of-type {\n",
       "        vertical-align: middle;\n",
       "    }\n",
       "\n",
       "    .dataframe tbody tr th {\n",
       "        vertical-align: top;\n",
       "    }\n",
       "\n",
       "    .dataframe thead th {\n",
       "        text-align: right;\n",
       "    }\n",
       "</style>\n",
       "<table border=\"1\" class=\"dataframe\">\n",
       "  <thead>\n",
       "    <tr style=\"text-align: right;\">\n",
       "      <th></th>\n",
       "      <th>total_emp_feb</th>\n",
       "      <th>total_emp_nov</th>\n",
       "    </tr>\n",
       "    <tr>\n",
       "      <th>state</th>\n",
       "      <th></th>\n",
       "      <th></th>\n",
       "    </tr>\n",
       "  </thead>\n",
       "  <tbody>\n",
       "    <tr>\n",
       "      <th>0</th>\n",
       "      <td>23.380000</td>\n",
       "      <td>21.096667</td>\n",
       "    </tr>\n",
       "    <tr>\n",
       "      <th>1</th>\n",
       "      <td>20.430583</td>\n",
       "      <td>20.897249</td>\n",
       "    </tr>\n",
       "  </tbody>\n",
       "</table>\n",
       "</div>"
      ],
      "text/plain": [
       "       total_emp_feb  total_emp_nov\n",
       "state                              \n",
       "0          23.380000      21.096667\n",
       "1          20.430583      20.897249"
      ]
     },
     "execution_count": 8,
     "metadata": {},
     "output_type": "execute_result"
    }
   ],
   "source": [
    "import pandas as pd\n",
    "from sklearn.linear_model import LinearRegression\n",
    "df = pd.read_csv('/Users/prachijhamb/Downloads/employment.csv')\n",
    "df.info()\n",
    "df.head()\n",
    "df.groupby('state').mean()"
   ]
  },
  {
   "cell_type": "code",
   "execution_count": 9,
   "metadata": {},
   "outputs": [
    {
     "name": "stdout",
     "output_type": "stream",
     "text": [
      "mean PA employment before: 23.38\n",
      "mean PA employment after: 21.10\n",
      "mean NJ employment before: 20.43\n",
      "mean NJ employment after: 20.90\n",
      "DID in mean employment is 2.75\n"
     ]
    }
   ],
   "source": [
    "# check by calculating the mean for each group directly\n",
    "# 0 PA control group, 1 NJ treatment group\n",
    "\n",
    "mean_emp_pa_before = df.groupby('state').mean().iloc[0, 0]\n",
    "mean_emp_pa_after = df.groupby('state').mean().iloc[0, 1]\n",
    "mean_emp_nj_before = df.groupby('state').mean().iloc[1, 0]\n",
    "mean_emp_nj_after = df.groupby('state').mean().iloc[1, 1]\n",
    "\n",
    "print(f'mean PA employment before: {mean_emp_pa_before:.2f}')\n",
    "print(f'mean PA employment after: {mean_emp_pa_after:.2f}')\n",
    "print(f'mean NJ employment before: {mean_emp_nj_before:.2f}')\n",
    "print(f'mean NJ employment after: {mean_emp_nj_after:.2f}')\n",
    "\n",
    "pa_diff = mean_emp_pa_after - mean_emp_pa_before\n",
    "nj_diff = mean_emp_nj_after - mean_emp_nj_before\n",
    "did = nj_diff - pa_diff\n",
    "print(f'DID in mean employment is {did:.2f}')"
   ]
  },
  {
   "cell_type": "code",
   "execution_count": 10,
   "metadata": {},
   "outputs": [
    {
     "data": {
      "application/vnd.microsoft.datawrangler.viewer.v0+json": {
       "columns": [
        {
         "name": "index",
         "rawType": "int64",
         "type": "integer"
        },
        {
         "name": "total_emp",
         "rawType": "float64",
         "type": "float"
        },
        {
         "name": "g",
         "rawType": "int64",
         "type": "integer"
        },
        {
         "name": "t",
         "rawType": "int64",
         "type": "integer"
        },
        {
         "name": "gt",
         "rawType": "int64",
         "type": "integer"
        }
       ],
       "conversionMethod": "pd.DataFrame",
       "ref": "3defb7e4-f316-4331-b236-429b461a9361",
       "rows": [
        [
         "0",
         "40.5",
         "0",
         "0",
         "0"
        ],
        [
         "1",
         "13.75",
         "0",
         "0",
         "0"
        ],
        [
         "2",
         "8.5",
         "0",
         "0",
         "0"
        ],
        [
         "3",
         "34.0",
         "0",
         "0",
         "0"
        ],
        [
         "4",
         "24.0",
         "0",
         "0",
         "0"
        ],
        [
         "5",
         "70.5",
         "0",
         "0",
         "0"
        ],
        [
         "6",
         "23.5",
         "0",
         "0",
         "0"
        ],
        [
         "7",
         "11.0",
         "0",
         "0",
         "0"
        ],
        [
         "8",
         "9.0",
         "0",
         "0",
         "0"
        ],
        [
         "9",
         "15.5",
         "0",
         "0",
         "0"
        ],
        [
         "10",
         "58.0",
         "0",
         "0",
         "0"
        ],
        [
         "11",
         "26.5",
         "0",
         "0",
         "0"
        ],
        [
         "12",
         "28.5",
         "0",
         "0",
         "0"
        ],
        [
         "13",
         "13.5",
         "0",
         "0",
         "0"
        ],
        [
         "14",
         "16.75",
         "0",
         "0",
         "0"
        ],
        [
         "15",
         "9.5",
         "0",
         "0",
         "0"
        ],
        [
         "16",
         "15.0",
         "0",
         "0",
         "0"
        ],
        [
         "17",
         "29.5",
         "0",
         "0",
         "0"
        ],
        [
         "18",
         "18.5",
         "0",
         "0",
         "0"
        ],
        [
         "19",
         "20.25",
         "0",
         "0",
         "0"
        ],
        [
         "20",
         "36.0",
         "0",
         "0",
         "0"
        ],
        [
         "21",
         "21.0",
         "0",
         "0",
         "0"
        ],
        [
         "22",
         "20.5",
         "0",
         "0",
         "0"
        ],
        [
         "23",
         "19.0",
         "0",
         "0",
         "0"
        ],
        [
         "24",
         "14.0",
         "0",
         "0",
         "0"
        ],
        [
         "25",
         "19.0",
         "0",
         "0",
         "0"
        ],
        [
         "26",
         "32.5",
         "0",
         "0",
         "0"
        ],
        [
         "27",
         "19.0",
         "0",
         "0",
         "0"
        ],
        [
         "28",
         "27.0",
         "0",
         "0",
         "0"
        ],
        [
         "29",
         "19.5",
         "0",
         "0",
         "0"
        ],
        [
         "30",
         "24.0",
         "0",
         "0",
         "0"
        ],
        [
         "31",
         "18.0",
         "0",
         "0",
         "0"
        ],
        [
         "32",
         "19.0",
         "0",
         "0",
         "0"
        ],
        [
         "33",
         "14.0",
         "0",
         "0",
         "0"
        ],
        [
         "34",
         "10.5",
         "0",
         "0",
         "0"
        ],
        [
         "35",
         "38.0",
         "0",
         "0",
         "0"
        ],
        [
         "36",
         "23.5",
         "0",
         "0",
         "0"
        ],
        [
         "37",
         "10.5",
         "0",
         "0",
         "0"
        ],
        [
         "38",
         "25.0",
         "0",
         "0",
         "0"
        ],
        [
         "39",
         "11.0",
         "0",
         "0",
         "0"
        ],
        [
         "40",
         "36.5",
         "0",
         "0",
         "0"
        ],
        [
         "41",
         "52.5",
         "0",
         "0",
         "0"
        ],
        [
         "42",
         "29.0",
         "0",
         "0",
         "0"
        ],
        [
         "43",
         "45.0",
         "0",
         "0",
         "0"
        ],
        [
         "44",
         "22.75",
         "0",
         "0",
         "0"
        ],
        [
         "45",
         "7.5",
         "0",
         "0",
         "0"
        ],
        [
         "46",
         "15.5",
         "0",
         "0",
         "0"
        ],
        [
         "47",
         "38.0",
         "0",
         "0",
         "0"
        ],
        [
         "48",
         "17.5",
         "0",
         "0",
         "0"
        ],
        [
         "49",
         "25.0",
         "0",
         "0",
         "0"
        ]
       ],
       "shape": {
        "columns": 4,
        "rows": 768
       }
      },
      "text/html": [
       "<div>\n",
       "<style scoped>\n",
       "    .dataframe tbody tr th:only-of-type {\n",
       "        vertical-align: middle;\n",
       "    }\n",
       "\n",
       "    .dataframe tbody tr th {\n",
       "        vertical-align: top;\n",
       "    }\n",
       "\n",
       "    .dataframe thead th {\n",
       "        text-align: right;\n",
       "    }\n",
       "</style>\n",
       "<table border=\"1\" class=\"dataframe\">\n",
       "  <thead>\n",
       "    <tr style=\"text-align: right;\">\n",
       "      <th></th>\n",
       "      <th>total_emp</th>\n",
       "      <th>g</th>\n",
       "      <th>t</th>\n",
       "      <th>gt</th>\n",
       "    </tr>\n",
       "  </thead>\n",
       "  <tbody>\n",
       "    <tr>\n",
       "      <th>0</th>\n",
       "      <td>40.50</td>\n",
       "      <td>0</td>\n",
       "      <td>0</td>\n",
       "      <td>0</td>\n",
       "    </tr>\n",
       "    <tr>\n",
       "      <th>1</th>\n",
       "      <td>13.75</td>\n",
       "      <td>0</td>\n",
       "      <td>0</td>\n",
       "      <td>0</td>\n",
       "    </tr>\n",
       "    <tr>\n",
       "      <th>2</th>\n",
       "      <td>8.50</td>\n",
       "      <td>0</td>\n",
       "      <td>0</td>\n",
       "      <td>0</td>\n",
       "    </tr>\n",
       "    <tr>\n",
       "      <th>3</th>\n",
       "      <td>34.00</td>\n",
       "      <td>0</td>\n",
       "      <td>0</td>\n",
       "      <td>0</td>\n",
       "    </tr>\n",
       "    <tr>\n",
       "      <th>4</th>\n",
       "      <td>24.00</td>\n",
       "      <td>0</td>\n",
       "      <td>0</td>\n",
       "      <td>0</td>\n",
       "    </tr>\n",
       "    <tr>\n",
       "      <th>...</th>\n",
       "      <td>...</td>\n",
       "      <td>...</td>\n",
       "      <td>...</td>\n",
       "      <td>...</td>\n",
       "    </tr>\n",
       "    <tr>\n",
       "      <th>379</th>\n",
       "      <td>23.75</td>\n",
       "      <td>1</td>\n",
       "      <td>1</td>\n",
       "      <td>1</td>\n",
       "    </tr>\n",
       "    <tr>\n",
       "      <th>380</th>\n",
       "      <td>17.50</td>\n",
       "      <td>1</td>\n",
       "      <td>1</td>\n",
       "      <td>1</td>\n",
       "    </tr>\n",
       "    <tr>\n",
       "      <th>381</th>\n",
       "      <td>20.50</td>\n",
       "      <td>1</td>\n",
       "      <td>1</td>\n",
       "      <td>1</td>\n",
       "    </tr>\n",
       "    <tr>\n",
       "      <th>382</th>\n",
       "      <td>20.50</td>\n",
       "      <td>1</td>\n",
       "      <td>1</td>\n",
       "      <td>1</td>\n",
       "    </tr>\n",
       "    <tr>\n",
       "      <th>383</th>\n",
       "      <td>25.00</td>\n",
       "      <td>1</td>\n",
       "      <td>1</td>\n",
       "      <td>1</td>\n",
       "    </tr>\n",
       "  </tbody>\n",
       "</table>\n",
       "<p>768 rows × 4 columns</p>\n",
       "</div>"
      ],
      "text/plain": [
       "     total_emp  g  t  gt\n",
       "0        40.50  0  0   0\n",
       "1        13.75  0  0   0\n",
       "2         8.50  0  0   0\n",
       "3        34.00  0  0   0\n",
       "4        24.00  0  0   0\n",
       "..         ... .. ..  ..\n",
       "379      23.75  1  1   1\n",
       "380      17.50  1  1   1\n",
       "381      20.50  1  1   1\n",
       "382      20.50  1  1   1\n",
       "383      25.00  1  1   1\n",
       "\n",
       "[768 rows x 4 columns]"
      ]
     },
     "execution_count": 10,
     "metadata": {},
     "output_type": "execute_result"
    }
   ],
   "source": [
    "# group g: 0 control group (PA), 1 treatment group (NJ)\n",
    "# t: 0 before treatment (min wage raise), 1 after treatment\n",
    "# gt: interaction of g * t\n",
    "\n",
    "# data before the treatment \n",
    "df_before = df[['total_emp_feb', 'state']]\n",
    "df_before['t'] = 0\n",
    "df_before.columns = ['total_emp', 'g', 't']\n",
    "\n",
    "# data after the treatment\n",
    "df_after = df[['total_emp_nov', 'state']]\n",
    "df_after['t'] = 1\n",
    "df_after.columns = ['total_emp', 'g', 't']\n",
    "\n",
    "# data for regression\n",
    "df_reg = pd.concat([df_before, df_after])\n",
    "\n",
    "# create the interaction \n",
    "df_reg['gt'] = df_reg.g * df_reg.t\n",
    "\n",
    "df_reg"
   ]
  },
  {
   "cell_type": "code",
   "execution_count": 11,
   "metadata": {},
   "outputs": [
    {
     "data": {
      "text/plain": [
       "array([-2.94941748, -2.28333333,  2.75      ])"
      ]
     },
     "execution_count": 11,
     "metadata": {},
     "output_type": "execute_result"
    }
   ],
   "source": [
    "# regression via sklearn\n",
    "linearreg = LinearRegression()\n",
    "\n",
    "X = df_reg[['g', 't', 'gt']]\n",
    "y = df_reg.total_emp\n",
    "\n",
    "linearreg.fit(X, y)\n",
    "linearreg.coef_  "
   ]
  }
 ],
 "metadata": {
  "kernelspec": {
   "display_name": "myenv",
   "language": "python",
   "name": "python3"
  },
  "language_info": {
   "codemirror_mode": {
    "name": "ipython",
    "version": 3
   },
   "file_extension": ".py",
   "mimetype": "text/x-python",
   "name": "python",
   "nbconvert_exporter": "python",
   "pygments_lexer": "ipython3",
   "version": "3.12.2"
  }
 },
 "nbformat": 4,
 "nbformat_minor": 2
}
